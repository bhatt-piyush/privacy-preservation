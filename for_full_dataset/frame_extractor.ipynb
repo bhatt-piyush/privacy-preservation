{
 "cells": [
  {
   "cell_type": "code",
   "execution_count": 2,
   "metadata": {},
   "outputs": [],
   "source": [
    "import os\n",
    "import cv2"
   ]
  },
  {
   "cell_type": "code",
   "execution_count": 37,
   "metadata": {},
   "outputs": [],
   "source": [
    "sessions = ['Session1', 'Session2', 'Session3', 'Session4', 'Session5']\n",
    "segment_loc = \"/Users/sharingan/Documents/IEMOCAP_vid_clips/\"\n",
    "frames_loc = \"/Users/sharingan/Documents/IEMOCAP_vid_frames/\"\n",
    "emotion_classes = ['ang', 'hap', 'neu']"
   ]
  },
  {
   "cell_type": "code",
   "execution_count": 48,
   "metadata": {},
   "outputs": [
    {
     "name": "stdout",
     "output_type": "stream",
     "text": [
      "Ses02M_script01_1_M013.avi True -->done\n",
      "Ses03M_script02_2_F033.avi True -->done\n",
      "Ses04M_script03_2_F033.avi True -->done\n",
      "Ses05F_script03_2_F018.avi True -->done\n"
     ]
    }
   ],
   "source": [
    "import matplotlib.pyplot as plt\n",
    "import matplotlib.image as mpimg\n",
    "for sess in sessions:\n",
    "    \n",
    "    # make directory for each session\n",
    "    os.system('mkdir ' + frames_loc + sess)\n",
    "    for emo in emotion_classes:\n",
    "        \n",
    "        if os.path.isdir(segment_loc + sess + '/' + emo):\n",
    "            video_files = [x for x in os.listdir(segment_loc + sess + '/' + emo) if x[-3:] == 'avi']\n",
    "#             video_files = [x.split('_')[1][:-2] for x in video_files]\n",
    "            # make directories for each emotion class inside all sessions\n",
    "            out_loc = frames_loc + sess + '/' + emo\n",
    "            os.system('mkdir ' + out_loc)\n",
    "            \n",
    "            for vid in video_files:\n",
    "                if vid.split('_')[1][:-2] == 'script':\n",
    "                    video = cv2.VideoCapture(segment_loc + sess + '/' + emo + '/' + vid)\n",
    "                    print vid, video.isOpened(),\n",
    "                    framerate = video.get(5)\n",
    "\n",
    "                    while (video.isOpened()):\n",
    "                        frameId = video.get(1)\n",
    "                        success,image = video.read()\n",
    "\n",
    "                        if(success != True):\n",
    "                            break\n",
    "\n",
    "                        # crop and resize the image\n",
    "                        image = image[120:360, 50:290]\n",
    "                        image = cv2.resize(image, (50, 50), interpolation=cv2.INTER_AREA)\n",
    "                        image = cv2.cvtColor(image, cv2.COLOR_BGR2GRAY)\n",
    "    #                         imgplot = plt.imshow(image)\n",
    "    #                         plt.show()\n",
    "\n",
    "                        # save the frame\n",
    "                        filename = out_loc + '/' + vid[:-4] + '_' + str(int(frameId)) + '.jpg'\n",
    "                        cv2.imwrite(filename,image)\n",
    "                    video.release()\n",
    "                    print('-->done')\n",
    "        else:\n",
    "            print \"Empty\""
   ]
  },
  {
   "cell_type": "code",
   "execution_count": null,
   "metadata": {},
   "outputs": [],
   "source": []
  }
 ],
 "metadata": {
  "kernelspec": {
   "display_name": "Python 2",
   "language": "python",
   "name": "python2"
  },
  "language_info": {
   "codemirror_mode": {
    "name": "ipython",
    "version": 2
   },
   "file_extension": ".py",
   "mimetype": "text/x-python",
   "name": "python",
   "nbconvert_exporter": "python",
   "pygments_lexer": "ipython2",
   "version": "2.7.15"
  }
 },
 "nbformat": 4,
 "nbformat_minor": 2
}
