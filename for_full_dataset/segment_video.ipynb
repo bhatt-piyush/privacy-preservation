{
 "cells": [
  {
   "cell_type": "code",
   "execution_count": 1,
   "metadata": {},
   "outputs": [],
   "source": [
    "import os\n",
    "import cv2"
   ]
  },
  {
   "cell_type": "code",
   "execution_count": 21,
   "metadata": {},
   "outputs": [],
   "source": [
    "dataset_dir = '/Users/sharingan/Documents/IEMOCAP_full_release/'\n",
    "sessions = ['Session1', 'Session2', 'Session3', 'Session4', 'Session5']\n",
    "vid_loc = '/dialog/avi/DivX/'\n",
    "\n",
    "datafile_loc = '/dialog/EmoEvaluation/'\n",
    "segment_loc = \"/Users/sharingan/Documents/IEMOCAP_vid_clips/\""
   ]
  },
  {
   "cell_type": "code",
   "execution_count": 46,
   "metadata": {},
   "outputs": [
    {
     "name": "stdout",
     "output_type": "stream",
     "text": [
      "------------------------------------------------\n",
      "Session1\n",
      "\n",
      "Segmentating  Ses01M_impro03.avi\n",
      "256 256 256 256 256 256 256 256 256 256 256 256 256 256 256 256 256 256 256 256 256 256 256 256 256 256 256 256 256 256 256 256 256 256 256 256 256 256 256 256 256 256 256 256 256 256 256 256 256\n"
     ]
    }
   ],
   "source": [
    "# For each session go though each video and segment them into clips based on the time given in text filesf\n",
    "for sess in sessions:\n",
    "    # extract names of all videos\n",
    "    vid_full_names = [x for x in os.listdir(dataset_dir + sess + vid_loc) if x[-3:] == 'avi']\n",
    "    all_names = [x[:-4] for x in vid_full_names]\n",
    "    print \"------------------------------------------------\"\n",
    "    print sess\n",
    "#     print all_names\n",
    "    \n",
    "    # location to save the segmented video clips\n",
    "    os.system('mkdir ' + segment_loc + sess)\n",
    "    \n",
    "    for name in all_names:\n",
    "        vid_name = name + '.avi'\n",
    "        txt_file_name = name + '.txt'\n",
    "        \n",
    "        # location of video file and text file\n",
    "        vid_file = dataset_dir + sess + vid_loc + vid_name\n",
    "        txt_file = dataset_dir + sess + datafile_loc + txt_file_name\n",
    "        out_loc = segment_loc + sess + '/' # + respective_emotion_folder\n",
    "        \n",
    "        print \"\\nSegmentating \", vid_name\n",
    "        \n",
    "        with open(txt_file) as f:\n",
    "            data = f.readlines()\n",
    "        data = iter(data)\n",
    "        \n",
    "        # Extracting information from the text file and segmentation\n",
    "        try:\n",
    "            for line in data:\n",
    "                if line != '\\n':\n",
    "                    continue;\n",
    "                line = next(data)\n",
    "                start_time = line.split()[0][1:]\n",
    "                end_time = line.split()[2][:-1]\n",
    "                segment_name = line.split()[3]\n",
    "                emotion = line.split()[4]\n",
    "                if emotion != 'xxx':\n",
    "                    os.system('mkdir ' + out_loc + emotion)\n",
    "#                     print line\n",
    "                    cmd = 'ffmpeg -i ' + vid_file + ' -ss ' + start_time + ' -acodec copy -to '+ end_time + ' ' + out_loc + emotion + '/' + segment_name + '.avi'\n",
    "#                     print cmd\n",
    "                    print os.system(cmd),\n",
    "        except(StopIteration):\n",
    "            None\n",
    "            \n",
    "        break\n",
    "    break"
   ]
  },
  {
   "cell_type": "code",
   "execution_count": null,
   "metadata": {},
   "outputs": [],
   "source": []
  }
 ],
 "metadata": {
  "kernelspec": {
   "display_name": "Python 2",
   "language": "python",
   "name": "python2"
  },
  "language_info": {
   "codemirror_mode": {
    "name": "ipython",
    "version": 2
   },
   "file_extension": ".py",
   "mimetype": "text/x-python",
   "name": "python",
   "nbconvert_exporter": "python",
   "pygments_lexer": "ipython2",
   "version": "2.7.15"
  }
 },
 "nbformat": 4,
 "nbformat_minor": 2
}
