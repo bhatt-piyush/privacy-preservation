{
 "cells": [
  {
   "cell_type": "code",
   "execution_count": 1,
   "metadata": {},
   "outputs": [
    {
     "name": "stderr",
     "output_type": "stream",
     "text": [
      "Using TensorFlow backend.\n"
     ]
    }
   ],
   "source": [
    "from keras.models import Sequential\n",
    "from keras.layers import Conv2D\n",
    "from keras.layers import MaxPooling2D\n",
    "from keras.layers import Flatten\n",
    "from keras.layers import Dense\n",
    "import os, subprocess\n",
    "import cv2\n",
    "import numpy as np\n",
    "from matplotlib import pyplot as plt\n",
    "from sklearn.model_selection import KFold\n",
    "import sklearn.metrics as metrics\n",
    "from keras.preprocessing.image import ImageDataGenerator\n",
    "from sklearn.utils import class_weight"
   ]
  },
  {
   "cell_type": "code",
   "execution_count": 2,
   "metadata": {},
   "outputs": [],
   "source": [
    "sessions = ['Session1', 'Session2', 'Session3', 'Session4', 'Session5']\n",
    "frames_loc = \"/Users/sharingan/Documents/IEMOCAP_vid_frames/\"\n",
    "emotion_classes = ['ang', 'hap', 'neu'] "
   ]
  },
  {
   "cell_type": "code",
   "execution_count": 3,
   "metadata": {},
   "outputs": [],
   "source": [
    "# generator returns an iterator whose each iteration returns a tuple with following two parts\n",
    "# batch of images of target_size size of selected color_mode ---- in our case 32 images of size 50x50 with 1 channel(grayscale)\n",
    "# ground truth in term of one hot encoding ----- in our case 32 one hot encodings\n",
    "def generate_train(directory):\n",
    "    train_datagen = ImageDataGenerator(\n",
    "            rescale=1./255,\n",
    "            shear_range=0.2,\n",
    "            zoom_range=0.2,\n",
    "            horizontal_flip=True)\n",
    "\n",
    "    train_generator = train_datagen.flow_from_directory(directory,\n",
    "                                                        target_size=(50, 50),\n",
    "                                                        batch_size=32,\n",
    "                                                        class_mode='categorical',\n",
    "                                                        color_mode = 'grayscale')\n",
    "    return train_generator\n",
    "\n",
    "def generate_test(directory):\n",
    "    test_datagen = ImageDataGenerator(rescale=1./255)\n",
    "\n",
    "    test_generator = test_datagen.flow_from_directory(directory,\n",
    "                                                            target_size=(50, 50),\n",
    "                                                            batch_size=32,\n",
    "                                                            class_mode='categorical',\n",
    "                                                            color_mode='grayscale')\n",
    "    return test_generator"
   ]
  },
  {
   "cell_type": "code",
   "execution_count": 80,
   "metadata": {},
   "outputs": [
    {
     "name": "stdout",
     "output_type": "stream",
     "text": [
      "Found 35437 images belonging to 3 classes.\n"
     ]
    }
   ],
   "source": [
    "kf = KFold(n_splits=len(sessions))\n",
    "kf = kf.split(sessions)\n",
    "# Calculating class weights\n",
    "for train, test in kf:\n",
    "    y_train = []\n",
    "    for t in train:\n",
    "        train_generator = generate_train(frames_loc + sessions[t])\n",
    "        y_train.extend(train_generator.classes)\n",
    "        break\n",
    "    break"
   ]
  },
  {
   "cell_type": "code",
   "execution_count": 64,
   "metadata": {},
   "outputs": [
    {
     "name": "stdout",
     "output_type": "stream",
     "text": [
      "(50, 50)\n",
      "(32, 3)\n"
     ]
    },
    {
     "data": {
      "image/png": "[encoded data removed]",
      "text/plain": [
       "<Figure size 432x288 with 1 Axes>"
      ]
     },
     "metadata": {
      "needs_background": "light"
     },
     "output_type": "display_data"
    }
   ],
   "source": [
    "filenames = iter(train_generator.filenames)\n",
    "\n",
    "for x, y in train_generator:\n",
    "    image = x[0]\n",
    "    image = image.reshape(50,50)\n",
    "    print image.shape\n",
    "    print y.shape\n",
    "    plt.imshow(image, cmap='gray')\n",
    "    break"
   ]
  },
  {
   "cell_type": "code",
   "execution_count": 69,
   "metadata": {},
   "outputs": [],
   "source": [
    "filenames = train_generator.filenames\n",
    "f = iter(filenames)"
   ]
  },
  {
   "cell_type": "code",
   "execution_count": 79,
   "metadata": {},
   "outputs": [
    {
     "name": "stdout",
     "output_type": "stream",
     "text": [
      "ang/Ses02F_script01_1_F019_104.jpg\n"
     ]
    }
   ],
   "source": []
  },
  {
   "cell_type": "code",
   "execution_count": 72,
   "metadata": {},
   "outputs": [
    {
     "name": "stdout",
     "output_type": "stream",
     "text": [
      "<listiterator object at 0x12d1a4990>\n"
     ]
    }
   ],
   "source": []
  },
  {
   "cell_type": "code",
   "execution_count": 86,
   "metadata": {},
   "outputs": [
    {
     "name": "stdout",
     "output_type": "stream",
     "text": [
      "------------------------------------------------\n",
      "Session1\n",
      "0.8425\n",
      "------------------------------------------------\n",
      "Session2\n",
      "0.7322\n",
      "------------------------------------------------\n",
      "Session3\n",
      "0.585\n",
      "------------------------------------------------\n",
      "Session4\n",
      "0.585\n",
      "------------------------------------------------\n",
      "Session5\n",
      "0.585\n",
      "0.585\n",
      "17\n"
     ]
    }
   ],
   "source": [
    "# Finding the minimum number of frames\n",
    "dataset_dir = '/Users/sharingan/Documents/IEMOCAP_full_release/'\n",
    "sessions = ['Session1', 'Session2', 'Session3', 'Session4', 'Session5']\n",
    "vid_loc = '/dialog/avi/DivX/'\n",
    "\n",
    "datafile_loc = '/dialog/EmoEvaluation/'\n",
    "segment_loc = \"/Users/sharingan/Documents/IEMOCAP_vid_clips/\"\n",
    "min_time = float(\"inf\")\n",
    "\n",
    "for sess in sessions:\n",
    "    # extract names of all videos\n",
    "    vid_full_names = [x for x in os.listdir(dataset_dir + sess + vid_loc) if x[-3:] == 'avi']\n",
    "    all_names = [x[:-4] for x in vid_full_names]\n",
    "    print \"------------------------------------------------\"\n",
    "    print sess\n",
    "    \n",
    "    for name in all_names:\n",
    "        txt_file_name = name + '.txt'\n",
    "        vid_name = name + '.avi'\n",
    "\n",
    "        # location of video file and text file\n",
    "        vid_file = dataset_dir + sess + vid_loc + vid_name\n",
    "        txt_file = dataset_dir + sess + datafile_loc + txt_file_name\n",
    "        out_loc = segment_loc + sess + '/' # + respective_emotion_folder\n",
    "        \n",
    "        with open(txt_file) as f:\n",
    "            data = f.readlines()\n",
    "        data = iter(data)\n",
    "        try:\n",
    "            for line in data:\n",
    "                if line != '\\n':\n",
    "                    continue;\n",
    "                line = next(data)\n",
    "                start_time = line.split()[0][1:]\n",
    "                end_time = line.split()[2][:-1]\n",
    "                segment_name = line.split()[3]\n",
    "                emotion = line.split()[4]\n",
    "                if emotion != 'xxx':\n",
    "                    running_time = float(end_time)-float(start_time)\n",
    "                    min_time = min(min_time, running_time)\n",
    "                    cmd = 'ffmpeg -i ' + vid_file + ' -ss ' + start_time + ' -acodec copy -to '+ end_time + ' ' + out_loc + emotion + '/' + segment_name + '.avi'\n",
    "        except(StopIteration):\n",
    "            None\n",
    "    print min_time\n",
    "\n",
    "print min_time\n",
    "\n",
    "\n",
    "# all_vid_names = subprocess.check_output([\"ls\",original_vid_loc]).split()\n",
    "# all_names = [x[:-4] for x in all_vid_names]\n",
    "# min_time = float(\"inf\")\n",
    "\n",
    "# for name in all_names:\n",
    "#     txt_file_name = name + '.txt'\n",
    "#     with open(datafile_loc + txt_file_name) as f:\n",
    "#         data = f.readlines()\n",
    "#     data = iter(data)\n",
    "#     try:\n",
    "#         for line in data:\n",
    "#             if line != '\\n':\n",
    "#                 continue;\n",
    "#             line = next(data)\n",
    "#             start_time = line.split()[0][1:]\n",
    "#             end_time = line.split()[2][:-1]\n",
    "# #             print  float(end_time)-float(start_time)3\n",
    "#             min_time = min(min_time, float(end_time)-float(start_time))\n",
    "#     except(StopIteration):\n",
    "#         None\n",
    "        \n",
    "max_frames = int(min_time*30)\n",
    "print max_frames"
   ]
  },
  {
   "cell_type": "code",
   "execution_count": null,
   "metadata": {},
   "outputs": [],
   "source": []
  },
  {
   "cell_type": "code",
   "execution_count": 112,
   "metadata": {},
   "outputs": [],
   "source": []
  }
 ],
 "metadata": {
  "kernelspec": {
   "display_name": "Python 2",
   "language": "python",
   "name": "python2"
  },
  "language_info": {
   "codemirror_mode": {
    "name": "ipython",
    "version": 2
   },
   "file_extension": ".py",
   "mimetype": "text/x-python",
   "name": "python",
   "nbconvert_exporter": "python",
   "pygments_lexer": "ipython2",
   "version": "2.7.15"
  }
 },
 "nbformat": 4,
 "nbformat_minor": 2
}
