{
 "cells": [
  {
   "cell_type": "code",
   "execution_count": 42,
   "metadata": {},
   "outputs": [],
   "source": [
    "from keras.models import Sequential\n",
    "from keras.layers import Conv2D\n",
    "from keras.layers import MaxPooling2D\n",
    "from keras.layers import Flatten\n",
    "from keras.layers import Dense\n",
    "import os, subprocess\n",
    "import cv2\n",
    "import numpy as np\n",
    "from matplotlib import pyplot as plt\n",
    "from sklearn.model_selection import KFold\n",
    "import sklearn.metrics as metrics\n",
    "from keras.preprocessing.image import ImageDataGenerator"
   ]
  },
  {
   "cell_type": "code",
   "execution_count": 2,
   "metadata": {},
   "outputs": [],
   "source": [
    "# Location where original video is stored and segmented video location\n",
    "segment_loc = \"/Users/sharingan/Documents/IEMOCAP/sentences/avi/\"\n",
    "original_vid_loc = \"/Users/sharingan/Documents/IEMOCAP/avi/DivX/\"\n",
    "\n",
    "# Where you want to store input processed frames\n",
    "frames_loc = \"/Users/sharingan/Documents/IEMOCAP/frames_for_CNN/\"\n",
    "\n",
    "# Location where the datafile is located\n",
    "datafile_loc = \"/Users/sharingan/Documents/IEMOCAP/EmoEvaluation/\"\n",
    "frames_no_stripes_loc = \"/Users/sharingan/Documents/IEMOCAP/Frames_no_stripes/\""
   ]
  },
  {
   "cell_type": "code",
   "execution_count": 3,
   "metadata": {},
   "outputs": [
    {
     "name": "stdout",
     "output_type": "stream",
     "text": [
      "['Ses01F_script01_1', 'Ses01F_script01_2', 'Ses01F_script01_3', 'Ses01F_script02_1', 'Ses01F_script02_2', 'Ses01F_script03_1', 'Ses01F_script03_2', 'Ses01M_script01_1', 'Ses01M_script01_2', 'Ses01M_script01_3', 'Ses01M_script02_1', 'Ses01M_script02_2', 'Ses01M_script03_1', 'Ses01M_script03_2']\n"
     ]
    }
   ],
   "source": [
    "# Select videos with script (We are not using impro videos)\n",
    "all_vid_names = subprocess.check_output([\"ls\",original_vid_loc]).split()\n",
    "all_names = [x[:-4] for x in all_vid_names]\n",
    "script_vid_names = [x for x in all_names if x.split('_')[1][0] == 's'] \n",
    "print script_vid_names"
   ]
  },
  {
   "cell_type": "markdown",
   "metadata": {},
   "source": [
    "# EXTRACTING FRAMES AND SAVING THEM IN SCRIPT-WISE FASHION"
   ]
  },
  {
   "cell_type": "code",
   "execution_count": 56,
   "metadata": {},
   "outputs": [],
   "source": [
    "# creating directories for frames on the basis of scpritps\n",
    "# creating subdirectories with 4 emotions\n",
    "\n",
    "def create_directory(directory_name):\n",
    "    os.system('mkdir ' + frames_loc + directory_name)\n",
    "\n",
    "selected_scripts = ['script01', 'script02', 'script03']\n",
    "# selected_scripts = ['test', 'test2']\n",
    "selected_emotions = ['ang', 'hap', 'sad', 'neu']\n",
    "# selected_emotions = ['ang', 'neu']\n",
    "for script in selected_scripts:\n",
    "    create_directory(script)\n",
    "    for emo in selected_emotions:\n",
    "        create_directory(script + \"/\" + emo)"
   ]
  },
  {
   "cell_type": "markdown",
   "metadata": {},
   "source": [
    "Only needed to execute once"
   ]
  },
  {
   "cell_type": "code",
   "execution_count": 57,
   "metadata": {},
   "outputs": [],
   "source": [
    "# def extract_videos_for_CNN(video_input_file_path, script, emo, segment_name):\n",
    "#     print '\\n Extracting frames from video: ', video_input_file_path\n",
    "#     vidcap = cv2.VideoCapture(video_input_file_path)\n",
    "#     success, image = vidcap.read()\n",
    "#     features = []\n",
    "#     success = True\n",
    "#     count = 0\n",
    "#     while success:\n",
    "# #         plt.imshow(image, cmap='gray')\n",
    "# #         plt.xticks([]),plt.yticks([])  # to hide tick values on X and Y axis\n",
    "# #         plt.show()\n",
    "#         success, image = vidcap.read()\n",
    "# #         print('Read a new frame: ', success)\n",
    "#         if success:\n",
    "#             image = image[120:360, 0:720]\n",
    "#             image = cv2.resize(image, (480, 480), interpolation=cv2.INTER_AREA)\n",
    "#             image = cv2.cvtColor(image, cv2.COLOR_BGR2GRAY)\n",
    "# #             channels = image.shape[2]\n",
    "# #             print image.shape\n",
    "# #             for channel in range(channels):\n",
    "# #                 features.append(image[:, :, channel])\n",
    "#             count = count + 1\n",
    "#             loc = frames_loc + script + '/' + emo + '/' + segment_name + '_' + str(count) + '.jpg'\n",
    "#             print cv2.imwrite(loc, image),\n",
    "        \n",
    "\n",
    "# for name in script_vid_names:\n",
    "# #     print \"\\n Extracting frames from \", name\n",
    "#     txt_file_name = name + '.txt'\n",
    "#     with open(datafile_loc + txt_file_name) as f:\n",
    "#         data = f.readlines()\n",
    "#     data = iter(data)\n",
    "#     try:\n",
    "#         for line in data:\n",
    "#             if line != '\\n':\n",
    "#                 continue;\n",
    "#             line = next(data)\n",
    "#             segment_name = line.split()[3]\n",
    "#             emotion = line.split()[4]\n",
    "#             script = segment_name.split('_')[1]\n",
    "#             this_segment_loc = segment_loc + name + '/' + segment_name + '.avi'\n",
    "#             if emotion in selected_emotions:\n",
    "#                 extract_videos_for_CNN(this_segment_loc, script, emotion, segment_name)\n",
    "            \n",
    "#     except(StopIteration):\n",
    "#         pass"
   ]
  },
  {
   "cell_type": "markdown",
   "metadata": {},
   "source": [
    "# CNN"
   ]
  },
  {
   "cell_type": "code",
   "execution_count": 38,
   "metadata": {},
   "outputs": [],
   "source": [
    "#batch size\n",
    "bs = 32"
   ]
  },
  {
   "cell_type": "code",
   "execution_count": 44,
   "metadata": {},
   "outputs": [],
   "source": [
    "def CNN_model():\n",
    "    model = Sequential()\n",
    "    # define CNN model\n",
    "    model.add(Conv2D(bs, (3, 3), activation = 'relu' ,input_shape = (480,480,1)))\n",
    "    model.add(MaxPooling2D(pool_size=(2,2)))\n",
    "    model.add(Flatten())\n",
    "    model.add(Dense(128, activation = 'relu'))\n",
    "    model.add(Dense(len(selected_emotions), activation = 'softmax'))\n",
    "    model.compile(optimizer = 'adam', loss = 'categorical_crossentropy', metrics = ['accuracy'])\n",
    "    return model\n",
    "# print model.summary()"
   ]
  },
  {
   "cell_type": "code",
   "execution_count": 45,
   "metadata": {},
   "outputs": [],
   "source": [
    "def generate_train(directory):\n",
    "    train_datagen = ImageDataGenerator(\n",
    "            rescale=1./255,\n",
    "            shear_range=0.2,\n",
    "            zoom_range=0.2,\n",
    "            horizontal_flip=True)\n",
    "\n",
    "    train_generator = train_datagen.flow_from_directory(directory,\n",
    "                                                        target_size=(480, 480),\n",
    "                                                        batch_size=bs,\n",
    "                                                        class_mode='categorical',\n",
    "                                                        color_mode = 'grayscale')\n",
    "    return train_generator\n",
    "\n",
    "def generate_test(directory):\n",
    "    test_datagen = ImageDataGenerator(rescale=1./255)\n",
    "\n",
    "    test_generator = test_datagen.flow_from_directory(directory,\n",
    "                                                            target_size=(480, 480),\n",
    "                                                            batch_size=bs,\n",
    "                                                            class_mode='categorical',\n",
    "                                                            color_mode='grayscale')\n",
    "    return test_generator"
   ]
  },
  {
   "cell_type": "code",
   "execution_count": 55,
   "metadata": {},
   "outputs": [
    {
     "name": "stdout",
     "output_type": "stream",
     "text": [
      "++++++++++++++++++++++++++++++++++++++++++++++++++++++++++++++\n",
      "++++++++++++++++++++++++++++++++++++++++++++++++++++++++++++++\n",
      "test2\n",
      "test\n",
      "Found 14 images belonging to 2 classes.\n",
      "Epoch 1/5\n",
      "14/14 [==============================] - 2s 151ms/step - loss: 8.0923 - acc: 0.5000\n",
      "Epoch 2/5\n",
      "14/14 [==============================] - 1s 69ms/step - loss: 8.0590 - acc: 0.5000\n",
      "Epoch 3/5\n",
      "14/14 [==============================] - 1s 69ms/step - loss: 8.0590 - acc: 0.5000\n",
      "Epoch 4/5\n",
      "14/14 [==============================] - 1s 70ms/step - loss: 8.0590 - acc: 0.5000\n",
      "Epoch 5/5\n",
      "14/14 [==============================] - 1s 69ms/step - loss: 8.0590 - acc: 0.5000\n",
      "Found 14 images belonging to 2 classes.\n"
     ]
    },
    {
     "name": "stderr",
     "output_type": "stream",
     "text": [
      "/anaconda2/envs/ds27/lib/python2.7/site-packages/sklearn/metrics/classification.py:1143: UndefinedMetricWarning: Precision and F-score are ill-defined and being set to 0.0 in labels with no predicted samples.\n",
      "  'precision', 'predicted', average, warn_for)\n"
     ]
    },
    {
     "name": "stdout",
     "output_type": "stream",
     "text": [
      "              precision    recall  f1-score   support\n",
      "\n",
      "         ang       0.50      1.00      0.67         7\n",
      "         neu       0.00      0.00      0.00         7\n",
      "\n",
      "   micro avg       0.50      0.50      0.50        14\n",
      "   macro avg       0.25      0.50      0.33        14\n",
      "weighted avg       0.25      0.50      0.33        14\n",
      "\n",
      "['ang', 'neu']\n",
      "[[7 0]\n",
      " [7 0]]\n",
      "++++++++++++++++++++++++++++++++++++++++++++++++++++++++++++++\n",
      "++++++++++++++++++++++++++++++++++++++++++++++++++++++++++++++\n",
      "test\n",
      "test2\n",
      "Found 14 images belonging to 2 classes.\n",
      "Epoch 1/5\n",
      "14/14 [==============================] - 2s 158ms/step - loss: 0.5535 - acc: 0.5714\n",
      "Epoch 2/5\n",
      "14/14 [==============================] - 1s 73ms/step - loss: 1.1167 - acc: 0.4286\n",
      "Epoch 3/5\n",
      "14/14 [==============================] - 1s 73ms/step - loss: 0.6752 - acc: 0.5714\n",
      "Epoch 4/5\n",
      "14/14 [==============================] - 1s 73ms/step - loss: 0.8017 - acc: 0.5714\n",
      "Epoch 5/5\n",
      "14/14 [==============================] - 1s 73ms/step - loss: 0.8375 - acc: 0.5000\n",
      "Found 14 images belonging to 2 classes.\n",
      "              precision    recall  f1-score   support\n",
      "\n",
      "         ang       0.50      1.00      0.67         7\n",
      "         neu       0.00      0.00      0.00         7\n",
      "\n",
      "   micro avg       0.50      0.50      0.50        14\n",
      "   macro avg       0.25      0.50      0.33        14\n",
      "weighted avg       0.25      0.50      0.33        14\n",
      "\n",
      "['ang', 'neu']\n",
      "[[7 0]\n",
      " [7 0]]\n"
     ]
    }
   ],
   "source": [
    "# create training and testing set\n",
    "\n",
    "kf = KFold(n_splits=len(selected_scripts))\n",
    "kf = kf.split(selected_scripts)\n",
    "\n",
    "# Each iteration represents one fold\n",
    "for train, test in kf:\n",
    "    print \"++++++++++++++++++++++++++++++++++++++++++++++++++++++++++++++\"\n",
    "    print \"++++++++++++++++++++++++++++++++++++++++++++++++++++++++++++++\"\n",
    "    # New model for every fold\n",
    "    model = CNN_model()\n",
    "    # Fit training data\n",
    "    for t in train:\n",
    "        train_generator = generate_train(frames_loc + selected_scripts[t])\n",
    "        \n",
    "        model.fit_generator(\n",
    "            train_generator,\n",
    "            steps_per_epoch=train_generator.samples / train_generator.batch_size,\n",
    "            epochs=5)\n",
    "    \n",
    "    # Test data\n",
    "    for t in test:\n",
    "        test_generator = generate_test(frames_loc + selected_scripts[t])\n",
    "    \n",
    "    \n",
    "    class_labels = list(test_generator.class_indices.keys())\n",
    "    predictions = model.predict_generator(test_generator, np.math.ceil(float(test_generator.samples)/float(test_generator.batch_size)))\n",
    "    predicted_classes = np.argmax(predictions, axis=1)\n",
    "    \n",
    "    # results\n",
    "    report = metrics.classification_report(test_generator.classes, predicted_classes, target_names=class_labels)\n",
    "    \n",
    "    # confusion matrix\n",
    "    confusion_mat = metrics.confusion_matrix(test_generator.classes, predicted_classes)\n",
    "    \n",
    "    print report  \n",
    "    print class_labels\n",
    "    print confusion_mat\n",
    "\n",
    "#     # making directories and storing training and testing samples\n",
    "#     os.system(\"rm -rf train\")\n",
    "#     os.system(\"rm -rf test\")\n",
    "#     os.system(\"mkdir train\")\n",
    "#     os.system(\"mkdir test\")\n",
    "    \n",
    "#     print \"Creating TRAINING SET\"\n",
    "#     dest = \" ./train/\"\n",
    "#     for dr in train:\n",
    "#         src = frames_loc + selected_scripts[dr] + '/'\n",
    "#         print os.system(\"rsync -a \" + src + dest)\n",
    "    \n",
    "#     print \"Creating TESTING SET\"\n",
    "#     dest = \" ./test/\"\n",
    "#     for dr in test:\n",
    "#         src = frames_loc + selected_scripts[dr] + '/'\n",
    "#         print os.system(\"rsync -a \" + src + dest)"
   ]
  },
  {
   "cell_type": "code",
   "execution_count": null,
   "metadata": {},
   "outputs": [],
   "source": []
  },
  {
   "cell_type": "code",
   "execution_count": null,
   "metadata": {},
   "outputs": [],
   "source": []
  },
  {
   "cell_type": "code",
   "execution_count": null,
   "metadata": {},
   "outputs": [],
   "source": []
  }
 ],
 "metadata": {
  "kernelspec": {
   "display_name": "Python 2",
   "language": "python",
   "name": "python2"
  },
  "language_info": {
   "codemirror_mode": {
    "name": "ipython",
    "version": 2
   },
   "file_extension": ".py",
   "mimetype": "text/x-python",
   "name": "python",
   "nbconvert_exporter": "python",
   "pygments_lexer": "ipython2",
   "version": "2.7.15"
  }
 },
 "nbformat": 4,
 "nbformat_minor": 2
}
